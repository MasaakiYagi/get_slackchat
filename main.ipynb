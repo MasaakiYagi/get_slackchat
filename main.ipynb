{
 "cells": [
  {
   "cell_type": "code",
   "execution_count": 16,
   "metadata": {},
   "outputs": [],
   "source": [
    "import requests\n",
    "import pyperclip\n",
    "import pandas as pd\n",
    "import re\n",
    "import time\n",
    "from tqdm import tqdm\n",
    "import json\n",
    "import datetime"
   ]
  },
  {
   "attachments": {},
   "cell_type": "markdown",
   "metadata": {},
   "source": [
    "# やることめも\n",
    "・発言曜日、時間帯、総リアクション/発言数\n",
    "\n",
    "・チャネルごとの発言数\n",
    "\n",
    "・発言from to→ハブ（優先）\n",
    "\n",
    "・テキストマイニング→ワードクラウド→日別の変化（チームとしての専門性の可視化）\n"
   ]
  },
  {
   "cell_type": "code",
   "execution_count": 17,
   "metadata": {},
   "outputs": [],
   "source": [
    "json_load = json.load(open('password.json', 'r'))\n",
    "TOKEN = json_load[\"TOKEN\"]\n",
    "CLIENT_SECRET = json_load[\"CLIENT_SECRET\"]\n",
    "SIGNING_SECRET = json_load[\"SIGNING_SECRET\"]"
   ]
  },
  {
   "cell_type": "code",
   "execution_count": 18,
   "metadata": {},
   "outputs": [],
   "source": [
    "### ユーザーマスタの取得\n",
    "def get_all_user_data():\n",
    "    URL = \"https://slack.com/api/users.list\"\n",
    "    cols = [\"user_id\", \"user_name\", \"gen\"]\n",
    "    m_user = pd.DataFrame(index=[], columns=cols)\n",
    "    \n",
    "    header={\n",
    "        \"Authorization\": \"Bearer {}\".format(TOKEN)\n",
    "    }\n",
    "    res = requests.get(URL, headers=header)\n",
    "    res_json = res.json()\n",
    "    res_data = res_json['members']\n",
    "    dict_array = []\n",
    "    print(\"---ユーザーリストを取得---\")\n",
    "    for single_data in tqdm(res_data):\n",
    "        if not(single_data['deleted']):  # 削除フラグが立っていない人だけまわす\n",
    "            # レギュレーション通りの名前をcorrect_nameに格納する\n",
    "            correct_name = single_data['profile']['display_name']\n",
    "            pattern = re.compile(r\"(-[0-9])|(- [0-9])|(-ob)\")\n",
    "            if not(bool(pattern.search(correct_name))):  # display_nameが指定の命名規則じゃなかったら\n",
    "                correct_name = single_data['profile']['real_name']  # real_nameの方を採用\n",
    "            \n",
    "            # correct_nameの末尾より期数を取得\n",
    "            splited = correct_name.split('-')\n",
    "            gen = 'NA'\n",
    "            if len(splited)>1:\n",
    "                gen = splited[-1]\n",
    "                \n",
    "            ins_row = {\n",
    "                \"user_id\": single_data['id'],\n",
    "                \"user_name\": correct_name,\n",
    "                \"gen\": gen\n",
    "            }\n",
    "            dict_array.append(ins_row)\n",
    "    m_user = pd.concat([m_user, pd.DataFrame.from_dict(dict_array)])\n",
    "            \n",
    "    return m_user"
   ]
  },
  {
   "cell_type": "code",
   "execution_count": 19,
   "metadata": {},
   "outputs": [],
   "source": [
    "### チャネル一覧の取得\n",
    "def get_all_channels():\n",
    "    URL = \"https://slack.com/api/conversations.list\"\n",
    "    cols = [\"channel_id\", \"channel_name\", \"purpose\"]\n",
    "    m_channel = pd.DataFrame(index=[], columns=cols)\n",
    "    \n",
    "    header={\n",
    "        \"Authorization\": \"Bearer {}\".format(TOKEN)\n",
    "    }\n",
    "    res = requests.get(URL, headers=header)\n",
    "    res_json = res.json()\n",
    "    res_data = res_json['channels']\n",
    "    dict_array = []\n",
    "    print(\"---チャンネル一覧を取得---\")\n",
    "    for single_data in tqdm(res_data):\n",
    "        if single_data['is_channel']:  # チャンネルの場合だけまわす\n",
    "            ins_row = {\n",
    "                \"channel_id\": single_data['id'],\n",
    "                \"channel_name\": single_data['name'],\n",
    "                \"purpose\": single_data['purpose']['value']\n",
    "            }\n",
    "            dict_array.append(ins_row)\n",
    "    m_channel = pd.concat([m_channel, pd.DataFrame.from_dict(dict_array)])\n",
    "    return m_channel"
   ]
  },
  {
   "cell_type": "code",
   "execution_count": 20,
   "metadata": {},
   "outputs": [],
   "source": [
    "### チャットデータの取得\n",
    "def get_all_chat_data(channel_ids, oldest_time=0):\n",
    "    URL_HISTORY = \"https://slack.com/api/conversations.history\"\n",
    "    URL_REPLIES = \"https://slack.com/api/conversations.replies\"\n",
    "    cols = [\"msg_id\", \"user_id\", \"channel_id\", \"thread_ts\", \"text\", \"reaction_num\", \"top\", \"timestamp\"]\n",
    "    t_chat = pd.DataFrame(index=[], columns=cols)\n",
    "    \n",
    "    # チャンネルごとにスレッドトップを取得し、chatデータへ追加\n",
    "    dict_array = []\n",
    "    print(\"---チャンネルごとのチャットを取得---\")\n",
    "    for channel_id in tqdm(channel_ids):\n",
    "        header = {\"Authorization\": \"Bearer \"+TOKEN}\n",
    "        params = {\n",
    "            \"channel\": channel_id,\n",
    "            \"oldest\": oldest_time\n",
    "            }\n",
    "        res = requests.get(URL_HISTORY, headers=header, params=params)\n",
    "        res_json = res.json()\n",
    "        res_data = res_json['messages']\n",
    "        for single_data in res_data:\n",
    "            if \"client_msg_id\" in single_data:  # システムメッセージは無視する\n",
    "                # リアクション数をカウント\n",
    "                reaction_num = 0\n",
    "                if \"reactions\" in single_data:\n",
    "                    for reaction_type in single_data['reactions']:\n",
    "                        reaction_num += reaction_type['count']\n",
    "                    \n",
    "                # 挿入行作成\n",
    "                ins_row = {\n",
    "                    \"msg_id\": single_data['client_msg_id'],\n",
    "                    \"user_id\": single_data['user'],\n",
    "                    \"channel_id\": channel_id,\n",
    "                    \"thread_ts\": single_data['ts'],\n",
    "                    \"text\": single_data['text'],\n",
    "                    \"reaction_num\": reaction_num,\n",
    "                    \"top\": True,\n",
    "                    \"timestamp\": datetime.datetime.fromtimestamp(float(single_data['ts']))\n",
    "                }\n",
    "                dict_array.append(ins_row)\n",
    "                \n",
    "                # リプライメッセージも取得\n",
    "                header_child = {\"Authorization\": \"Bearer \"+TOKEN}\n",
    "                params_child = {\n",
    "                    \"channel\": channel_id,\n",
    "                    \"ts\": single_data['ts'],\n",
    "                    \"oldest\": oldest_time\n",
    "                    }\n",
    "                res_child = requests.get(URL_REPLIES, headers=header_child, params=params_child)\n",
    "                res_json_child = res_child.json()\n",
    "                if not(\"messages\" in res_json_child):\n",
    "                    print(res_json_child)\n",
    "                res_data_child = res_json_child['messages']\n",
    "                if len(res_data_child)>1:  # 1番目はスレッドトップなので無視する\n",
    "                    for single_data_child in res_data_child[1:]:\n",
    "                        # リアクション数をカウント\n",
    "                        reaction_num_child = 0\n",
    "                        if \"reactions\" in single_data_child:\n",
    "                            for reaction_type_child in single_data_child['reactions']:\n",
    "                                reaction_num_child += reaction_type_child['count']\n",
    "                        # リプライの挿入行作成\n",
    "                        ins_row_child = {\n",
    "                            \"msg_id\": single_data_child['client_msg_id'],\n",
    "                            \"user_id\": single_data_child['user'],\n",
    "                            \"channel_id\": channel_id,\n",
    "                            \"thread_ts\": single_data['ts'],\n",
    "                            \"text\": single_data_child['text'],\n",
    "                            \"reaction_num\": reaction_num_child,\n",
    "                            \"top\": False,\n",
    "                            \"timestamp\": datetime.datetime.fromtimestamp(float(single_data_child['ts']))\n",
    "                        }\n",
    "                        dict_array.append(ins_row_child)\n",
    "    t_chat = pd.concat([t_chat, pd.DataFrame.from_dict(dict_array)])\n",
    "    \n",
    "    return t_chat\n",
    "    "
   ]
  },
  {
   "cell_type": "code",
   "execution_count": 21,
   "metadata": {},
   "outputs": [
    {
     "name": "stdout",
     "output_type": "stream",
     "text": [
      "---ユーザーリストを取得---\n"
     ]
    },
    {
     "name": "stderr",
     "output_type": "stream",
     "text": [
      "100%|██████████| 122/122 [00:00<00:00, 121718.62it/s]\n"
     ]
    },
    {
     "name": "stdout",
     "output_type": "stream",
     "text": [
      "---チャンネル一覧を取得---\n"
     ]
    },
    {
     "name": "stderr",
     "output_type": "stream",
     "text": [
      "100%|██████████| 73/73 [00:00<?, ?it/s]\n"
     ]
    },
    {
     "name": "stdout",
     "output_type": "stream",
     "text": [
      "---チャンネルごとのチャットを取得---\n"
     ]
    },
    {
     "name": "stderr",
     "output_type": "stream",
     "text": [
      "100%|██████████| 73/73 [00:50<00:00,  1.44it/s]\n"
     ]
    }
   ],
   "source": [
    "oldest_time = int(time.time() - 60*60*24*10)  # 仮数として10日前まで\n",
    "\n",
    "m_user = get_all_user_data()\n",
    "m_channel = get_all_channels()\n",
    "t_chat = get_all_chat_data(m_channel['channel_id'].to_list(), oldest_time)"
   ]
  },
  {
   "cell_type": "code",
   "execution_count": 22,
   "metadata": {},
   "outputs": [],
   "source": [
    "m_user.to_csv('data/m_user.csv', encoding='utf_8_sig')\n",
    "m_channel.to_csv('data/m_channel.csv', encoding='utf_8_sig')\n",
    "t_chat.to_csv('data/t_chat.csv', encoding='utf_8_sig')"
   ]
  }
 ],
 "metadata": {
  "kernelspec": {
   "display_name": "base",
   "language": "python",
   "name": "python3"
  },
  "language_info": {
   "codemirror_mode": {
    "name": "ipython",
    "version": 3
   },
   "file_extension": ".py",
   "mimetype": "text/x-python",
   "name": "python",
   "nbconvert_exporter": "python",
   "pygments_lexer": "ipython3",
   "version": "3.9.12 (main, Apr  4 2022, 05:22:27) [MSC v.1916 64 bit (AMD64)]"
  },
  "orig_nbformat": 4,
  "vscode": {
   "interpreter": {
    "hash": "0add0b3f8093927c4be906d57717782affcbea4c4f7993894a5075a0684ab886"
   }
  }
 },
 "nbformat": 4,
 "nbformat_minor": 2
}
